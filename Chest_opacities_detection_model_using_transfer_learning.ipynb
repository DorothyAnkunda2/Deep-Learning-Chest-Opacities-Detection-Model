{
 "cells": [
  {
   "cell_type": "code",
   "execution_count": 3,
   "metadata": {
    "collapsed": true,
    "ExecuteTime": {
     "end_time": "2023-05-11T14:13:59.539852Z",
     "start_time": "2023-05-11T14:13:54.088919Z"
    }
   },
   "outputs": [
    {
     "name": "stderr",
     "output_type": "stream",
     "text": [
      "2023-05-11 17:13:54.300338: I tensorflow/core/platform/cpu_feature_guard.cc:193] This TensorFlow binary is optimized with oneAPI Deep Neural Network Library (oneDNN) to use the following CPU instructions in performance-critical operations:  SSE4.1 SSE4.2\n",
      "To enable them in other operations, rebuild TensorFlow with the appropriate compiler flags.\n"
     ]
    }
   ],
   "source": [
    "import os\n",
    "import numpy as np\n",
    "from tensorflow import keras\n",
    "from keras import layers\n",
    "import csv\n",
    "import tensorflow as tf"
   ]
  },
  {
   "cell_type": "code",
   "execution_count": 4,
   "outputs": [],
   "source": [
    "#the path to images\n",
    "path_to_images = 'Data/dataset1/known_images'"
   ],
   "metadata": {
    "collapsed": false,
    "ExecuteTime": {
     "end_time": "2023-05-11T14:14:03.544822Z",
     "start_time": "2023-05-11T14:14:03.534205Z"
    }
   }
  },
  {
   "cell_type": "code",
   "execution_count": 43,
   "outputs": [
    {
     "name": "stdout",
     "output_type": "stream",
     "text": [
      "Found 715 files belonging to 2 classes.\n",
      "Using 572 files for training.\n",
      "Using 143 files for validation.\n"
     ]
    }
   ],
   "source": [
    "# Training and validating the dataset\n",
    "train_dataset, val_dataset = keras.utils.image_dataset_from_directory(\n",
    "    path_to_images,\n",
    "    class_names = ['Normal','Sick'],\n",
    "    batch_size = 16,\n",
    "    image_size = (395, 488),\n",
    "    validation_split = 0.2,\n",
    "    subset = \"both\",\n",
    "    seed = 200\n",
    ")"
   ],
   "metadata": {
    "collapsed": false,
    "ExecuteTime": {
     "end_time": "2023-05-08T16:42:43.072854Z",
     "start_time": "2023-05-08T16:42:42.988606Z"
    }
   }
  },
  {
   "cell_type": "code",
   "execution_count": 44,
   "outputs": [],
   "source": [
    "#Instantiating and freezing the VGG19 Convolutional base\n",
    "conv_base = keras.applications.VGG19(\n",
    "    weights = 'imagenet',\n",
    "    include_top = False,\n",
    ")\n",
    "\n",
    "conv_base.trainable = False"
   ],
   "metadata": {
    "collapsed": false,
    "ExecuteTime": {
     "end_time": "2023-05-08T16:42:43.529815Z",
     "start_time": "2023-05-08T16:42:43.077576Z"
    }
   }
  },
  {
   "cell_type": "code",
   "execution_count": 45,
   "outputs": [],
   "source": [
    "#data augumentation\n",
    "data_augmentation = keras.Sequential(\n",
    "\n",
    "    [\n",
    "        keras.layers.RandomFlip('horizontal'),\n",
    "        keras.layers.RandomRotation(0.1),\n",
    "        keras.layers.RandomZoom(0.2)\n",
    "    ]\n",
    ")\n"
   ],
   "metadata": {
    "collapsed": false,
    "ExecuteTime": {
     "end_time": "2023-05-08T16:42:43.538136Z",
     "start_time": "2023-05-08T16:42:43.533522Z"
    }
   }
  },
  {
   "cell_type": "code",
   "execution_count": 46,
   "outputs": [],
   "source": [
    "inputs = keras.Input(shape = (395, 488, 3))\n",
    "X = data_augmentation(inputs)\n",
    "\n",
    "X = keras.applications.vgg19.preprocess_input(X)\n",
    "X = conv_base(X)\n",
    "X = layers.Flatten()(X)\n",
    "X = layers.Dense(256)(X)\n",
    "X = layers.Dropout (0.5)(X)\n",
    "\n",
    "outputs = layers.Dense(1, activation = 'sigmoid')(X)\n",
    "model = keras.Model(inputs,outputs)\n"
   ],
   "metadata": {
    "collapsed": false,
    "ExecuteTime": {
     "end_time": "2023-05-08T16:42:43.780455Z",
     "start_time": "2023-05-08T16:42:43.541068Z"
    }
   }
  },
  {
   "cell_type": "code",
   "execution_count": 47,
   "outputs": [],
   "source": [
    "#Compiling the model\n",
    "\n",
    "model.compile(\n",
    "    loss = 'binary_crossentropy',\n",
    "    optimizer = 'rmsprop',\n",
    "    metrics = ['accuracy']\n",
    ")"
   ],
   "metadata": {
    "collapsed": false,
    "ExecuteTime": {
     "end_time": "2023-05-08T16:42:43.787230Z",
     "start_time": "2023-05-08T16:42:43.783487Z"
    }
   }
  },
  {
   "cell_type": "code",
   "execution_count": 48,
   "outputs": [],
   "source": [
    "callbacks = [\n",
    "    keras.callbacks.ModelCheckpoint(\n",
    "        filepath = 'Chest_opacities_detection_model_using_transfer_learning.keras',\n",
    "        save_best_only = True,\n",
    "        monitor = 'val_loss'\n",
    "\n",
    "    )\n",
    "]"
   ],
   "metadata": {
    "collapsed": false,
    "ExecuteTime": {
     "end_time": "2023-05-08T16:42:43.790983Z",
     "start_time": "2023-05-08T16:42:43.788958Z"
    }
   }
  },
  {
   "cell_type": "code",
   "execution_count": 49,
   "outputs": [
    {
     "name": "stdout",
     "output_type": "stream",
     "text": [
      "Epoch 1/30\n",
      "WARNING:tensorflow:Using a while_loop for converting RngReadAndSkip cause there is no registered converter for this op.\n",
      "WARNING:tensorflow:Using a while_loop for converting Bitcast cause there is no registered converter for this op.\n",
      "WARNING:tensorflow:Using a while_loop for converting Bitcast cause there is no registered converter for this op.\n",
      "WARNING:tensorflow:Using a while_loop for converting StatelessRandomUniformV2 cause there is no registered converter for this op.\n",
      "WARNING:tensorflow:Using a while_loop for converting ImageProjectiveTransformV3 cause there is no registered converter for this op.\n",
      "WARNING:tensorflow:Using a while_loop for converting RngReadAndSkip cause there is no registered converter for this op.\n",
      "WARNING:tensorflow:Using a while_loop for converting Bitcast cause there is no registered converter for this op.\n",
      "WARNING:tensorflow:Using a while_loop for converting Bitcast cause there is no registered converter for this op.\n",
      "WARNING:tensorflow:Using a while_loop for converting StatelessRandomUniformV2 cause there is no registered converter for this op.\n",
      "WARNING:tensorflow:Using a while_loop for converting ImageProjectiveTransformV3 cause there is no registered converter for this op.\n",
      "WARNING:tensorflow:Using a while_loop for converting RngReadAndSkip cause there is no registered converter for this op.\n",
      "WARNING:tensorflow:Using a while_loop for converting Bitcast cause there is no registered converter for this op.\n",
      "WARNING:tensorflow:Using a while_loop for converting Bitcast cause there is no registered converter for this op.\n",
      "WARNING:tensorflow:Using a while_loop for converting StatelessRandomUniformV2 cause there is no registered converter for this op.\n",
      "WARNING:tensorflow:Using a while_loop for converting ImageProjectiveTransformV3 cause there is no registered converter for this op.\n",
      "WARNING:tensorflow:Using a while_loop for converting RngReadAndSkip cause there is no registered converter for this op.\n",
      "WARNING:tensorflow:Using a while_loop for converting Bitcast cause there is no registered converter for this op.\n",
      "WARNING:tensorflow:Using a while_loop for converting Bitcast cause there is no registered converter for this op.\n",
      "WARNING:tensorflow:Using a while_loop for converting StatelessRandomUniformV2 cause there is no registered converter for this op.\n",
      "WARNING:tensorflow:Using a while_loop for converting ImageProjectiveTransformV3 cause there is no registered converter for this op.\n",
      "36/36 [==============================] - 4779s 136s/step - loss: 74.8436 - accuracy: 0.7867 - val_loss: 1.8816 - val_accuracy: 0.9371\n",
      "Epoch 2/30\n",
      "36/36 [==============================] - 866s 23s/step - loss: 17.6425 - accuracy: 0.8951 - val_loss: 3.1580 - val_accuracy: 0.9580\n",
      "Epoch 3/30\n",
      "36/36 [==============================] - 1076s 30s/step - loss: 15.7156 - accuracy: 0.9196 - val_loss: 35.7719 - val_accuracy: 0.7762\n",
      "Epoch 4/30\n",
      "36/36 [==============================] - 1471s 41s/step - loss: 15.2939 - accuracy: 0.9161 - val_loss: 2.4444 - val_accuracy: 0.9720\n",
      "Epoch 5/30\n",
      "36/36 [==============================] - 1348s 38s/step - loss: 6.0379 - accuracy: 0.9528 - val_loss: 2.6626 - val_accuracy: 0.9580\n",
      "Epoch 6/30\n",
      "36/36 [==============================] - 1782s 50s/step - loss: 9.6784 - accuracy: 0.9493 - val_loss: 8.1123 - val_accuracy: 0.9371\n",
      "Epoch 7/30\n",
      "36/36 [==============================] - 2014s 57s/step - loss: 7.9315 - accuracy: 0.9633 - val_loss: 3.1121 - val_accuracy: 0.9650\n",
      "Epoch 8/30\n",
      "36/36 [==============================] - 1068s 30s/step - loss: 9.0723 - accuracy: 0.9580 - val_loss: 1.7615 - val_accuracy: 0.9860\n",
      "Epoch 9/30\n",
      "36/36 [==============================] - 1281s 36s/step - loss: 9.2481 - accuracy: 0.9510 - val_loss: 3.4940e-30 - val_accuracy: 1.0000\n",
      "Epoch 10/30\n",
      "36/36 [==============================] - 31687s 904s/step - loss: 4.0794 - accuracy: 0.9773 - val_loss: 5.4952 - val_accuracy: 0.9580\n",
      "Epoch 11/30\n",
      "36/36 [==============================] - 6291s 166s/step - loss: 6.8388 - accuracy: 0.9790 - val_loss: 16.5193 - val_accuracy: 0.8741\n",
      "Epoch 12/30\n",
      "36/36 [==============================] - 1084s 30s/step - loss: 8.0734 - accuracy: 0.9720 - val_loss: 3.1500 - val_accuracy: 0.9790\n",
      "Epoch 13/30\n",
      "36/36 [==============================] - 1288s 36s/step - loss: 3.1846 - accuracy: 0.9808 - val_loss: 1.8327 - val_accuracy: 0.9860\n",
      "Epoch 14/30\n",
      "36/36 [==============================] - 2084s 58s/step - loss: 8.7585 - accuracy: 0.9633 - val_loss: 1.4637 - val_accuracy: 0.9790\n",
      "Epoch 15/30\n",
      "36/36 [==============================] - 1497s 42s/step - loss: 3.8612 - accuracy: 0.9703 - val_loss: 1.4710 - val_accuracy: 0.9930\n",
      "Epoch 16/30\n",
      "36/36 [==============================] - 1470s 41s/step - loss: 5.5929 - accuracy: 0.9755 - val_loss: 0.9724 - val_accuracy: 0.9930\n",
      "Epoch 17/30\n",
      "36/36 [==============================] - 2162s 61s/step - loss: 3.2958 - accuracy: 0.9825 - val_loss: 1.3910 - val_accuracy: 0.9790\n",
      "Epoch 18/30\n",
      "36/36 [==============================] - 1619s 45s/step - loss: 4.1266 - accuracy: 0.9808 - val_loss: 0.9149 - val_accuracy: 0.9930\n",
      "Epoch 19/30\n",
      "36/36 [==============================] - 1577s 44s/step - loss: 2.0706 - accuracy: 0.9878 - val_loss: 0.4250 - val_accuracy: 0.9930\n",
      "Epoch 20/30\n",
      "36/36 [==============================] - 2023s 57s/step - loss: 2.2605 - accuracy: 0.9930 - val_loss: 0.8371 - val_accuracy: 0.9860\n",
      "Epoch 21/30\n",
      "36/36 [==============================] - 1759s 49s/step - loss: 3.3009 - accuracy: 0.9790 - val_loss: 1.8693 - val_accuracy: 0.9860\n",
      "Epoch 22/30\n",
      "36/36 [==============================] - 1353s 38s/step - loss: 4.0191 - accuracy: 0.9790 - val_loss: 2.1288 - val_accuracy: 0.9860\n",
      "Epoch 23/30\n",
      "36/36 [==============================] - 1423s 39s/step - loss: 2.2117 - accuracy: 0.9878 - val_loss: 0.0158 - val_accuracy: 0.9930\n",
      "Epoch 24/30\n",
      "36/36 [==============================] - 1670s 46s/step - loss: 4.3176 - accuracy: 0.9720 - val_loss: 9.3394e-25 - val_accuracy: 1.0000\n",
      "Epoch 25/30\n",
      "36/36 [==============================] - 1332s 37s/step - loss: 1.2745 - accuracy: 0.9895 - val_loss: 1.3624 - val_accuracy: 0.9650\n",
      "Epoch 26/30\n",
      "36/36 [==============================] - 2032s 57s/step - loss: 3.8313 - accuracy: 0.9738 - val_loss: 6.4843e-20 - val_accuracy: 1.0000\n",
      "Epoch 27/30\n",
      "36/36 [==============================] - 1250s 35s/step - loss: 2.9484 - accuracy: 0.9895 - val_loss: 0.0000e+00 - val_accuracy: 1.0000\n",
      "Epoch 28/30\n",
      "36/36 [==============================] - 1332s 37s/step - loss: 2.6406 - accuracy: 0.9878 - val_loss: 1.9198e-29 - val_accuracy: 1.0000\n",
      "Epoch 29/30\n",
      "36/36 [==============================] - 1375s 38s/step - loss: 4.0867 - accuracy: 0.9860 - val_loss: 0.5185 - val_accuracy: 0.9930\n",
      "Epoch 30/30\n",
      "36/36 [==============================] - 1469s 41s/step - loss: 2.2469 - accuracy: 0.9895 - val_loss: 1.8940e-38 - val_accuracy: 1.0000\n"
     ]
    }
   ],
   "source": [
    "\n",
    "history = model.fit(\n",
    "    train_dataset,\n",
    "    epochs = 30,\n",
    "    validation_data = val_dataset,\n",
    "    callbacks = callbacks\n",
    ")"
   ],
   "metadata": {
    "collapsed": false,
    "ExecuteTime": {
     "end_time": "2023-05-09T15:53:48.984570Z",
     "start_time": "2023-05-08T16:42:43.792300Z"
    }
   }
  },
  {
   "cell_type": "code",
   "execution_count": 52,
   "outputs": [
    {
     "data": {
      "text/plain": "<Figure size 640x480 with 1 Axes>",
      "image/png": "[encoded data removed]"
     },
     "metadata": {},
     "output_type": "display_data"
    },
    {
     "data": {
      "text/plain": "<Figure size 640x480 with 1 Axes>",
      "image/png": "[encoded data removed]"
     },
     "metadata": {},
     "output_type": "display_data"
    },
    {
     "data": {
      "text/plain": "<Figure size 640x480 with 0 Axes>"
     },
     "metadata": {},
     "output_type": "display_data"
    }
   ],
   "source": [
    "import matplotlib.pyplot as plt\n",
    "accuracy = history.history ['accuracy']\n",
    "val_accuracy = history.history ['val_accuracy']\n",
    "loss = history.history ['loss']\n",
    "val_loss = history.history['val_loss']\n",
    "epochs = range(1, len(accuracy) + 1)\n",
    "\n",
    "#Accuracy plots\n",
    "plt.plot(epochs, accuracy, 'bo', label = 'Training Accuracy')\n",
    "plt.plot(epochs, val_accuracy, 'b', label = 'Validation Accuracy')\n",
    "plt.title('Training and Validation accuracy')\n",
    "plt.legend()\n",
    "plt.figure()\n",
    "\n",
    "#Loss plots\n",
    "plt.plot(epochs, loss,'bo', label = 'Training Loss')\n",
    "plt.plot(epochs, val_loss, 'b', label = 'Validation Loss')\n",
    "plt.title('Training and Validation Loss')\n",
    "plt.legend()\n",
    "plt.figure()\n",
    "plt.show()\n"
   ],
   "metadata": {
    "collapsed": false,
    "ExecuteTime": {
     "end_time": "2023-05-09T18:38:34.305303Z",
     "start_time": "2023-05-09T18:38:33.588852Z"
    }
   }
  },
  {
   "cell_type": "code",
   "execution_count": 24,
   "outputs": [
    {
     "name": "stdout",
     "output_type": "stream",
     "text": [
      "Model: \"model_4\"\n",
      "_________________________________________________________________\n",
      " Layer (type)                Output Shape              Param #   \n",
      "=================================================================\n",
      " input_12 (InputLayer)       [(None, 395, 488, 3)]     0         \n",
      "                                                                 \n",
      " sequential_4 (Sequential)   (None, 395, 488, 3)       0         \n",
      "                                                                 \n",
      " tf.__operators__.getitem_6   (None, 395, 488, 3)      0         \n",
      " (SlicingOpLambda)                                               \n",
      "                                                                 \n",
      " tf.nn.bias_add_6 (TFOpLambd  (None, 395, 488, 3)      0         \n",
      " a)                                                              \n",
      "                                                                 \n",
      " vgg19 (Functional)          (None, None, None, 512)   20024384  \n",
      "                                                                 \n",
      " flatten_4 (Flatten)         (None, 92160)             0         \n",
      "                                                                 \n",
      " dense_8 (Dense)             (None, 256)               23593216  \n",
      "                                                                 \n",
      " dropout_4 (Dropout)         (None, 256)               0         \n",
      "                                                                 \n",
      " dense_9 (Dense)             (None, 1)                 257       \n",
      "                                                                 \n",
      "=================================================================\n",
      "Total params: 43,617,857\n",
      "Trainable params: 23,593,473\n",
      "Non-trainable params: 20,024,384\n",
      "_________________________________________________________________\n"
     ]
    }
   ],
   "source": [
    "#trainable and non-trainable parameters\n",
    "model = keras.models.load_model('Chest_opacities_detection_model_using_transfer_learning.keras')\n",
    "model.summary()"
   ],
   "metadata": {
    "collapsed": false,
    "ExecuteTime": {
     "end_time": "2023-05-10T17:13:23.635605Z",
     "start_time": "2023-05-10T17:13:22.706408Z"
    }
   }
  },
  {
   "cell_type": "code",
   "execution_count": 29,
   "outputs": [],
   "source": [
    "#defining directory containing the test images\n",
    "test_dir = \"./Data/dataset1/unknown_images\"\n",
    "\n",
    "#getting the list of test image file paths\n",
    "test_image_paths = [os.path.join(test_dir,f) for f in os.listdir(test_dir)]"
   ],
   "metadata": {
    "collapsed": false,
    "ExecuteTime": {
     "end_time": "2023-05-10T18:24:39.799316Z",
     "start_time": "2023-05-10T18:24:39.798415Z"
    }
   }
  },
  {
   "cell_type": "code",
   "execution_count": 41,
   "outputs": [
    {
     "name": "stdout",
     "output_type": "stream",
     "text": [
      "1/1 [==============================] - 1s 1s/step\n",
      "1/1 [==============================] - 1s 1s/step\n",
      "1/1 [==============================] - 1s 1s/step\n",
      "1/1 [==============================] - 1s 1s/step\n",
      "1/1 [==============================] - 1s 1s/step\n",
      "1/1 [==============================] - 1s 1s/step\n",
      "1/1 [==============================] - 1s 1s/step\n",
      "1/1 [==============================] - 1s 1s/step\n",
      "1/1 [==============================] - 1s 1s/step\n",
      "1/1 [==============================] - 1s 1s/step\n",
      "1/1 [==============================] - 1s 1s/step\n",
      "1/1 [==============================] - 1s 1s/step\n",
      "1/1 [==============================] - 1s 1s/step\n",
      "1/1 [==============================] - 1s 1s/step\n",
      "1/1 [==============================] - 1s 1s/step\n",
      "1/1 [==============================] - 1s 1s/step\n",
      "1/1 [==============================] - 1s 1s/step\n",
      "1/1 [==============================] - 1s 1s/step\n",
      "1/1 [==============================] - 2s 2s/step\n",
      "1/1 [==============================] - 1s 1s/step\n",
      "1/1 [==============================] - 1s 1s/step\n",
      "1/1 [==============================] - 1s 1s/step\n",
      "1/1 [==============================] - 1s 1s/step\n",
      "1/1 [==============================] - 1s 1s/step\n",
      "1/1 [==============================] - 1s 1s/step\n",
      "1/1 [==============================] - 1s 1s/step\n",
      "1/1 [==============================] - 1s 1s/step\n",
      "1/1 [==============================] - 1s 1s/step\n",
      "1/1 [==============================] - 1s 1s/step\n",
      "1/1 [==============================] - 1s 1s/step\n",
      "1/1 [==============================] - 1s 1s/step\n",
      "1/1 [==============================] - 1s 1s/step\n",
      "1/1 [==============================] - 1s 1s/step\n",
      "1/1 [==============================] - 1s 1s/step\n",
      "1/1 [==============================] - 1s 1s/step\n",
      "1/1 [==============================] - 1s 1s/step\n",
      "1/1 [==============================] - 1s 1s/step\n",
      "1/1 [==============================] - 1s 1s/step\n",
      "1/1 [==============================] - 1s 1s/step\n",
      "1/1 [==============================] - 1s 1s/step\n",
      "1/1 [==============================] - 1s 1s/step\n",
      "1/1 [==============================] - 2s 2s/step\n",
      "1/1 [==============================] - 2s 2s/step\n",
      "1/1 [==============================] - 1s 1s/step\n",
      "1/1 [==============================] - 1s 1s/step\n",
      "1/1 [==============================] - 1s 1s/step\n",
      "1/1 [==============================] - 1s 1s/step\n",
      "1/1 [==============================] - 1s 1s/step\n",
      "1/1 [==============================] - 1s 1s/step\n",
      "1/1 [==============================] - 1s 1s/step\n"
     ]
    }
   ],
   "source": [
    "#Creating an empty array to store the predicted labels\n",
    "predicted_with_filenames = []\n",
    "\n",
    "#looping through each test image, make prediction and store the predicated label\n",
    "for image_path in test_image_paths:\n",
    "    #loading the image and resizing it to the target size\n",
    "    img = keras.preprocessing.image.load_img(image_path, target_size = (395,488))\n",
    "\n",
    "    #converting the image to a numpy array\n",
    "    img_array = keras.preprocessing.image.img_to_array(img)\n",
    "\n",
    "    #Preprocessing\n",
    "    img_array = keras.applications.vgg19.preprocess_input(img_array)\n",
    "\n",
    "    #Expanding the dimensions of the array to create batch axis\n",
    "    img_array = np.expand_dims(img_array, 0)\n",
    "\n",
    "    #Making predictions on the image\n",
    "    predictions = model.predict(img_array,0)\n",
    "\n",
    "    #convert the predictions to a binary label(1 for Normal, 0 for Sick)\n",
    "    predicted_labels = int(predictions[0]>0.5)\n",
    "\n",
    "    #Extracting the file name from the image path\n",
    "    file_name = os.path.basename(image_path)\n",
    "\n",
    "    #adding the predicted label and file name to the list\n",
    "    predicted_with_filenames.append((file_name, predicted_labels))"
   ],
   "metadata": {
    "collapsed": false,
    "ExecuteTime": {
     "end_time": "2023-05-10T18:33:01.636331Z",
     "start_time": "2023-05-10T18:31:56.708370Z"
    }
   }
  },
  {
   "cell_type": "code",
   "execution_count": 50,
   "outputs": [],
   "source": [
    "#saving the predictions with file name as CSV file\n",
    "with open('Dorothy_Ankunda_2200701759_chest_opacities_model_using_transfer_learning.csv','w',newline = '') as csvfile:\n",
    "    writer = csv.writer(csvfile)\n",
    "\n",
    "    #Adding my name , Registration Number and Student Number to the file\n",
    "    writer.writerow(['Name', 'Dorothy Ankunda'])\n",
    "    writer.writerow(['Student Number', '2200701759'])\n",
    "    writer.writerow(['Registration Number', '2022/HD05/1759U'])\n",
    "    writer.writerow(['  ', '  '])\n",
    "    writer.writerow(['File Name', 'Prediction Name'])\n",
    "    for predictions in predicted_with_filenames:\n",
    "        writer.writerow(predictions)"
   ],
   "metadata": {
    "collapsed": false,
    "ExecuteTime": {
     "end_time": "2023-05-10T18:44:06.707606Z",
     "start_time": "2023-05-10T18:44:06.702846Z"
    }
   }
  },
  {
   "cell_type": "code",
   "execution_count": 7,
   "outputs": [],
   "source": [
    "path_to_dataset_2 = 'Data/dataset2/images'"
   ],
   "metadata": {
    "collapsed": false,
    "ExecuteTime": {
     "end_time": "2023-05-11T14:14:46.258231Z",
     "start_time": "2023-05-11T14:14:46.222406Z"
    }
   }
  },
  {
   "cell_type": "code",
   "execution_count": 8,
   "outputs": [
    {
     "name": "stdout",
     "output_type": "stream",
     "text": [
      "Found 224 files belonging to 2 classes.\n"
     ]
    }
   ],
   "source": [
    "# Training and validating the dataset\n",
    "test_dataset = keras.utils.image_dataset_from_directory(\n",
    "    path_to_dataset_2,\n",
    "    class_names = ['Normal','Sick'],\n",
    "    batch_size = 32,\n",
    "    image_size = (395, 488),\n",
    "\n",
    ")"
   ],
   "metadata": {
    "collapsed": false,
    "ExecuteTime": {
     "end_time": "2023-05-11T14:14:48.734085Z",
     "start_time": "2023-05-11T14:14:48.555414Z"
    }
   }
  },
  {
   "cell_type": "code",
   "execution_count": 9,
   "outputs": [],
   "source": [
    "test_model = keras.models.load_model(\"Chest_opacities_detection_model_using_transfer_learning.keras\")"
   ],
   "metadata": {
    "collapsed": false,
    "ExecuteTime": {
     "end_time": "2023-05-11T14:14:52.086532Z",
     "start_time": "2023-05-11T14:14:51.269331Z"
    }
   }
  },
  {
   "cell_type": "code",
   "execution_count": 10,
   "outputs": [
    {
     "name": "stdout",
     "output_type": "stream",
     "text": [
      "7/7 [==============================] - 254s 37s/step - loss: 487.7845 - accuracy: 0.4509\n"
     ]
    }
   ],
   "source": [
    "test_loss, test_accuracy = test_model.evaluate(test_dataset)\n"
   ],
   "metadata": {
    "collapsed": false,
    "ExecuteTime": {
     "end_time": "2023-05-11T14:19:08.477712Z",
     "start_time": "2023-05-11T14:14:54.367454Z"
    }
   }
  },
  {
   "cell_type": "code",
   "execution_count": 11,
   "outputs": [
    {
     "name": "stdout",
     "output_type": "stream",
     "text": [
      "Test Accuracy: 0.450893 and Test loss: 487.784485\n"
     ]
    }
   ],
   "source": [
    "print(f\"Test Accuracy: {test_accuracy:3f} and Test loss: {test_loss:3f}\")"
   ],
   "metadata": {
    "collapsed": false,
    "ExecuteTime": {
     "end_time": "2023-05-11T18:41:32.057159Z",
     "start_time": "2023-05-11T18:41:32.035023Z"
    }
   }
  },
  {
   "cell_type": "code",
   "execution_count": null,
   "outputs": [],
   "source": [],
   "metadata": {
    "collapsed": false
   }
  }
 ],
 "metadata": {
  "kernelspec": {
   "display_name": "Python 3",
   "language": "python",
   "name": "python3"
  },
  "language_info": {
   "codemirror_mode": {
    "name": "ipython",
    "version": 2
   },
   "file_extension": ".py",
   "mimetype": "text/x-python",
   "name": "python",
   "nbconvert_exporter": "python",
   "pygments_lexer": "ipython2",
   "version": "2.7.6"
  }
 },
 "nbformat": 4,
 "nbformat_minor": 0
}
