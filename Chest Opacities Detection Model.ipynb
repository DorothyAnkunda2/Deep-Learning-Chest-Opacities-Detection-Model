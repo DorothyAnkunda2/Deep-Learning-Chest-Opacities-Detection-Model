{
 "cells": [
  {
   "cell_type": "code",
   "execution_count": null,
   "id": "da09be2f",
   "metadata": {
    "scrolled": false
   },
   "outputs": [],
   "source": [
    "#Buliding the Neural network model\n",
    "import tensorflow as tf\n",
    "from tensorflow import keras\n",
    "import numpy as np\n",
    "from sklearn.model_selection import train_test_split"
   ]
  },
  {
   "cell_type": "code",
   "execution_count": null,
   "id": "18774da9",
   "metadata": {},
   "outputs": [],
   "source": [
    "#the path to images\n",
    "path_to_images = 'Data/dataset1/known_images'\n"
   ]
  },
  {
   "cell_type": "code",
   "execution_count": null,
   "id": "e1c0cb59",
   "metadata": {
    "scrolled": false
   },
   "outputs": [],
   "source": [
    "# Training and validating the dataset\n",
    "train_dataset, val_dataset = keras.utils.image_dataset_from_directory(path_to_images, class_names = ['Normal','Sick'], batch_size = 16, image_size = (395, 488), validation_split = 0.2, subset = \"both\", seed = 200)"
   ]
  },
  {
   "cell_type": "code",
   "execution_count": null,
   "id": "75d90f46",
   "metadata": {},
   "outputs": [],
   "source": [
    "data_augumentaion = keras.sequential(\n",
    "[\n",
    "    keras.layers.RandomFlip('horizontal'),\n",
    "    keras.layers\n",
    "])"
   ]
  },
  {
   "cell_type": "code",
   "execution_count": null,
   "id": "1ce8b025",
   "metadata": {
    "scrolled": true
   },
   "outputs": [],
   "source": [
    "#Creating the input shape\n",
    "inputs = keras.Input(shape = (395,488,3))\n",
    "\n",
    "#creating a convolutional layer with max pooling\n",
    "X = keras.layers.Conv2D(filters = 32, kernel_size = 3, activation = 'relu')(inputs)\n",
    "X = keras.layers.MaxPooling2D(pool_size = 2)(X)\n",
    "\n",
    "X = keras.layers.Conv2D(filters = 64, kernel_size = 3, activation = 'relu')(inputs)\n",
    "X = keras.layers.MaxPooling2D(pool_size = 2)(X)\n",
    "\n",
    "X = keras.layers.Conv2D(filters = 128, kernel_size = 3, activation = 'relu')(inputs)\n",
    "X = keras.layers.MaxPooling2D(pool_size = 2)(X)\n",
    "\n",
    "X = keras.layers.Conv2D(filters = 256, kernel_size = 3, activation = 'relu')(inputs)\n",
    "X = keras.layers.MaxPooling2D(pool_size = 2)(X)\n",
    "\n",
    "X = keras.layers.Conv2D(filters = 256, kernel_size = 3, activation = 'relu')(inputs)\n",
    "X = keras.layers.MaxPooling2D(pool_size = 2)(X)\n",
    "\n",
    "X = keras.layers.Flatten()(X)\n",
    "\n",
    "#X = keras.layers.Dense(64, activation = 'relu')(X)\n",
    "\n",
    "#Creating the model output\n",
    "outputs = keras.layers.Dense(1, activation = 'sigmoid')(X)\n",
    "\n"
   ]
  },
  {
   "cell_type": "code",
   "execution_count": null,
   "id": "0d9ec056",
   "metadata": {},
   "outputs": [],
   "source": [
    "model = keras.Model(inputs = inputs, outputs = outputs)"
   ]
  },
  {
   "cell_type": "code",
   "execution_count": null,
   "id": "47879a4c",
   "metadata": {},
   "outputs": [],
   "source": [
    "#Compiling the model\n",
    "\n",
    "model.compile(\n",
    "loss = 'binary_crossentropy',\n",
    "optimizer = 'rmsprop',\n",
    "metrics = ('accuracy')\n",
    "\n",
    ")"
   ]
  },
  {
   "cell_type": "code",
   "execution_count": null,
   "id": "e15be25e",
   "metadata": {},
   "outputs": [],
   "source": [
    "callbacks = [\n",
    "    keras.callback.ModelCheckpoint(\n",
    "        \n",
    "        filepath = 'models/chest_opacities_detection_model.keras',\n",
    "        save_best_only = True,\n",
    "        monitor = 'val_loss'\n",
    "        \n",
    "   )\n",
    "]"
   ]
  },
  {
   "cell_type": "code",
   "execution_count": null,
   "id": "c055519c",
   "metadata": {},
   "outputs": [],
   "source": [
    "\n",
    "history = model.fit(\n",
    "\n",
    "    train_dataset,\n",
    "    epochs = 30,\n",
    "    validation_data = val_dataset,\n",
    "    callbacks = callbacks\n",
    "    \n",
    ")"
   ]
  },
  {
   "cell_type": "code",
   "execution_count": null,
   "id": "d07a9ca9",
   "metadata": {
    "scrolled": true
   },
   "outputs": [],
   "source": [
    "import matplotlib.pyplot as plt\n",
    "accuracy = history.history ['accuracy']\n",
    "val_accuracy = history.history ['val_accuracy']\n",
    "loss = history.history ['loss']\n",
    "val_loss = history.history['val_loss']\n",
    "\n",
    "epochs = range(1, len(accuracy) + 1)\n",
    "plt.plot(epochs, accuracy, 'bo', label = 'Training Accuracy')\n",
    "plt.plot(epochs, val_accuracy, 'b', label = 'Validation Accuracy')\n",
    "plt.title('Training and Validation accuracy')\n",
    "plt.legend()\n",
    "plt.figure()\n",
    "plt.plot(epochs, loss,'bo', label = 'Training Loss')\n",
    "plt.plot(epochs, val_loss, 'b', label = 'Validation Loss')\n",
    "plt.title('Training and Validation Loss')\n",
    "plt.legend\n",
    "plt.show()\n"
   ]
  },
  {
   "cell_type": "code",
   "execution_count": null,
   "id": "ab91e7d0",
   "metadata": {},
   "outputs": [],
   "source": []
  },
  {
   "cell_type": "code",
   "execution_count": null,
   "id": "64bcdc39",
   "metadata": {},
   "outputs": [],
   "source": []
  },
  {
   "cell_type": "code",
   "execution_count": null,
   "id": "92d4ce82",
   "metadata": {},
   "outputs": [],
   "source": []
  }
 ],
 "metadata": {
  "kernelspec": {
   "display_name": "Python 3 (ipykernel)",
   "language": "python",
   "name": "python3"
  },
  "language_info": {
   "codemirror_mode": {
    "name": "ipython",
    "version": 3
   },
   "file_extension": ".py",
   "mimetype": "text/x-python",
   "name": "python",
   "nbconvert_exporter": "python",
   "pygments_lexer": "ipython3",
   "version": "3.10.9"
  }
 },
 "nbformat": 4,
 "nbformat_minor": 5
}
