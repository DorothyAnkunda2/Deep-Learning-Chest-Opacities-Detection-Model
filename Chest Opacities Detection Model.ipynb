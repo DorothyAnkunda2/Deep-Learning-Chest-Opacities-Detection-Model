{
 "cells": [
  {
   "cell_type": "code",
   "execution_count": 1,
   "id": "da09be2f",
   "metadata": {
    "scrolled": false,
    "ExecuteTime": {
     "end_time": "2023-05-08T14:54:19.388081Z",
     "start_time": "2023-05-08T14:54:16.007525Z"
    }
   },
   "outputs": [
    {
     "name": "stderr",
     "output_type": "stream",
     "text": [
      "2023-05-08 17:54:16.017547: I tensorflow/core/platform/cpu_feature_guard.cc:193] This TensorFlow binary is optimized with oneAPI Deep Neural Network Library (oneDNN) to use the following CPU instructions in performance-critical operations:  SSE4.1 SSE4.2\n",
      "To enable them in other operations, rebuild TensorFlow with the appropriate compiler flags.\n"
     ]
    }
   ],
   "source": [
    "#Buliding the Neural network model\n",
    "import keras.layers\n",
    "import tensorflow as tf\n",
    "from tensorflow import keras"
   ]
  },
  {
   "cell_type": "code",
   "execution_count": 24,
   "id": "18774da9",
   "metadata": {},
   "outputs": [],
   "source": [
    "#the path to images\n",
    "path_to_images = 'Data/dataset1/known_images'\n"
   ]
  },
  {
   "cell_type": "code",
   "execution_count": 25,
   "id": "e1c0cb59",
   "metadata": {
    "scrolled": false
   },
   "outputs": [
    {
     "name": "stdout",
     "output_type": "stream",
     "text": [
      "Found 715 files belonging to 2 classes.\n",
      "Using 572 files for training.\n",
      "Using 143 files for validation.\n"
     ]
    }
   ],
   "source": [
    "# Training and validating the dataset\n",
    "train_dataset, val_dataset = keras.utils.image_dataset_from_directory(\n",
    "    path_to_images, \n",
    "    class_names = ['Normal','Sick'],\n",
    "    batch_size = 16,\n",
    "    image_size = (395, 488),\n",
    "    validation_split = 0.2,\n",
    "    subset = \"both\",\n",
    "    seed = 200\n",
    ")"
   ]
  },
  {
   "cell_type": "code",
   "execution_count": 28,
   "id": "177e9d73",
   "metadata": {},
   "outputs": [],
   "source": [
    "#data augumentation\n",
    "data_augmentation = keras.Sequential(\n",
    "\n",
    "    [\n",
    "    keras.layers.RandomFlip('horizontal'),\n",
    "    keras.layers.RandomRotation(0.1),\n",
    "    keras.layers.RandomZoom(0.2)\n",
    "    ]\n",
    ")"
   ]
  },
  {
   "cell_type": "code",
   "execution_count": 33,
   "id": "1ce8b025",
   "metadata": {
    "scrolled": true
   },
   "outputs": [],
   "source": [
    "#Creating the input shape\n",
    "inputs = keras.Input(shape = (395,488,3))\n",
    "\n",
    "#data augumentation\n",
    "X = data_augmentation(inputs)\n",
    "\n",
    "#Normalising the features from (0-255) to (0-1)\n",
    "X = keras.layers.Rescaling(1./255)(X)\n",
    "\n",
    "#creating a convolutional layer with max pooling\n",
    "X = keras.layers.Conv2D(filters = 32, kernel_size = 3, activation = 'relu')(X)\n",
    "X = keras.layers.MaxPooling2D(pool_size = 2)(X)\n",
    "\n",
    "X = keras.layers.Conv2D(filters = 64, kernel_size = 3, activation = 'relu')(inputs)\n",
    "X = keras.layers.MaxPooling2D(pool_size = 2)(X)\n",
    "\n",
    "X = keras.layers.Conv2D(filters = 128, kernel_size = 3, activation = 'relu')(inputs)\n",
    "X = keras.layers.MaxPooling2D(pool_size = 2)(X)\n",
    "\n",
    "X = keras.layers.Conv2D(filters = 256, kernel_size = 3, activation = 'relu')(inputs)\n",
    "X = keras.layers.MaxPooling2D(pool_size = 2)(X)\n",
    "\n",
    "X = keras.layers.Conv2D(filters = 256, kernel_size = 3, activation = 'relu')(inputs)\n",
    "X = keras.layers.MaxPooling2D(pool_size = 2)(X)\n",
    "\n",
    "X = keras.layers.Conv2D(filters = 256, kernel_size = 3, activation = 'relu')(inputs)\n",
    "X = keras.layers.MaxPooling2D(pool_size = 2)(X)\n",
    "\n",
    "X = keras.layers.Flatten()(X)\n",
    "\n",
    "#X = keras.layers.Dense(64, activation = 'relu')(X)\n",
    "\n",
    "# Dropout\n",
    "X = keras.layers.Dropout(0.5)(X)\n",
    "\n",
    "\n",
    "#Creating the model output\n",
    "outputs = keras.layers.Dense(1, activation = 'sigmoid')(X)\n",
    "\n"
   ]
  },
  {
   "cell_type": "code",
   "execution_count": 35,
   "id": "0d9ec056",
   "metadata": {},
   "outputs": [],
   "source": [
    "model = keras.Model(\n",
    "    inputs = inputs,\n",
    "    outputs = outputs,\n",
    "    name = 'Chest_Opacities_Detection'\n",
    ")"
   ]
  },
  {
   "cell_type": "code",
   "execution_count": 36,
   "id": "7f6add00",
   "metadata": {},
   "outputs": [
    {
     "name": "stdout",
     "output_type": "stream",
     "text": [
      "Model: \"Chest_Opacities_Detection\"\n",
      "_________________________________________________________________\n",
      " Layer (type)                Output Shape              Param #   \n",
      "=================================================================\n",
      " input_11 (InputLayer)       [(None, 395, 488, 3)]     0         \n",
      "                                                                 \n",
      " conv2d_29 (Conv2D)          (None, 393, 486, 256)     7168      \n",
      "                                                                 \n",
      " max_pooling2d_29 (MaxPoolin  (None, 196, 243, 256)    0         \n",
      " g2D)                                                            \n",
      "                                                                 \n",
      " flatten_4 (Flatten)         (None, 12192768)          0         \n",
      "                                                                 \n",
      " dropout_3 (Dropout)         (None, 12192768)          0         \n",
      "                                                                 \n",
      " dense_3 (Dense)             (None, 1)                 12192769  \n",
      "                                                                 \n",
      "=================================================================\n",
      "Total params: 12,199,937\n",
      "Trainable params: 12,199,937\n",
      "Non-trainable params: 0\n",
      "_________________________________________________________________\n"
     ]
    }
   ],
   "source": [
    "model.summary()"
   ]
  },
  {
   "cell_type": "code",
   "execution_count": 37,
   "id": "47879a4c",
   "metadata": {},
   "outputs": [],
   "source": [
    "#Compiling the model\n",
    "\n",
    "model.compile(\n",
    "    loss = 'binary_crossentropy',\n",
    "    optimizer = 'rmsprop',\n",
    "    metrics = ['accuracy']\n",
    ")"
   ]
  },
  {
   "cell_type": "code",
   "execution_count": 39,
   "id": "bfdd2fdd",
   "metadata": {},
   "outputs": [],
   "source": [
    "callbacks = [\n",
    "    keras.callbacks.ModelCheckpoint(\n",
    "        filepath = 'models/chest_opacities_detection_model.keras',\n",
    "        save_best_only = True,\n",
    "        monitor = 'val_loss'\n",
    "        \n",
    "   )\n",
    "]"
   ]
  },
  {
   "cell_type": "code",
   "execution_count": 40,
   "id": "c055519c",
   "metadata": {
    "scrolled": true
   },
   "outputs": [
    {
     "name": "stdout",
     "output_type": "stream",
     "text": [
      "Epoch 1/30\n",
      "36/36 [==============================] - 437s 12s/step - loss: 1611.1964 - accuracy: 0.7762 - val_loss: 7.9711 - val_accuracy: 0.9231\n",
      "Epoch 2/30\n",
      "36/36 [==============================] - 483s 13s/step - loss: 21.7523 - accuracy: 0.8969 - val_loss: 881.5093 - val_accuracy: 0.6154\n",
      "Epoch 3/30\n",
      "36/36 [==============================] - 483s 13s/step - loss: 156.4449 - accuracy: 0.8497 - val_loss: 1055.8510 - val_accuracy: 0.4336\n",
      "Epoch 4/30\n",
      "36/36 [==============================] - 512s 14s/step - loss: 190.0617 - accuracy: 0.8357 - val_loss: 27.2639 - val_accuracy: 0.9301\n",
      "Epoch 5/30\n",
      "36/36 [==============================] - 580s 16s/step - loss: 345.7592 - accuracy: 0.8409 - val_loss: 10.3356 - val_accuracy: 0.9580\n",
      "Epoch 6/30\n",
      "36/36 [==============================] - 585s 16s/step - loss: 103.8181 - accuracy: 0.9108 - val_loss: 18.3871 - val_accuracy: 0.9720\n",
      "Epoch 7/30\n",
      "36/36 [==============================] - 536s 15s/step - loss: 10.7323 - accuracy: 0.9598 - val_loss: 254.8175 - val_accuracy: 0.5664\n",
      "Epoch 8/30\n",
      "36/36 [==============================] - 5475s 156s/step - loss: 427.2518 - accuracy: 0.8864 - val_loss: 41.2162 - val_accuracy: 0.9720\n",
      "Epoch 9/30\n",
      "36/36 [==============================] - 392s 11s/step - loss: 9.4448 - accuracy: 0.9843 - val_loss: 19.3186 - val_accuracy: 0.9510\n",
      "Epoch 10/30\n",
      "36/36 [==============================] - 407s 11s/step - loss: 331.8097 - accuracy: 0.9441 - val_loss: 35.4334 - val_accuracy: 0.9720\n",
      "Epoch 11/30\n",
      "36/36 [==============================] - 394s 11s/step - loss: 7.2289 - accuracy: 0.9843 - val_loss: 20.6353 - val_accuracy: 0.9441\n",
      "Epoch 12/30\n",
      "36/36 [==============================] - 553s 15s/step - loss: 191.0514 - accuracy: 0.9038 - val_loss: 37.6946 - val_accuracy: 0.9790\n",
      "Epoch 13/30\n",
      "36/36 [==============================] - 765s 21s/step - loss: 7.3046 - accuracy: 0.9860 - val_loss: 17.9283 - val_accuracy: 0.9790\n",
      "Epoch 14/30\n",
      "36/36 [==============================] - 757s 21s/step - loss: 453.6143 - accuracy: 0.9196 - val_loss: 52.2238 - val_accuracy: 0.9790\n",
      "Epoch 15/30\n",
      "36/36 [==============================] - 616s 17s/step - loss: 15.0885 - accuracy: 0.9825 - val_loss: 49.3834 - val_accuracy: 0.9790\n",
      "Epoch 16/30\n",
      "36/36 [==============================] - 685s 19s/step - loss: 5.1759 - accuracy: 0.9913 - val_loss: 28.6320 - val_accuracy: 0.9860\n",
      "Epoch 17/30\n",
      "36/36 [==============================] - 458s 12s/step - loss: 0.0000e+00 - accuracy: 1.0000 - val_loss: 28.6320 - val_accuracy: 0.9860\n",
      "Epoch 18/30\n",
      "36/36 [==============================] - 352s 10s/step - loss: 0.0000e+00 - accuracy: 1.0000 - val_loss: 28.6320 - val_accuracy: 0.9860\n",
      "Epoch 19/30\n",
      "36/36 [==============================] - 744s 21s/step - loss: 0.0000e+00 - accuracy: 1.0000 - val_loss: 28.6320 - val_accuracy: 0.9860\n",
      "Epoch 20/30\n",
      "36/36 [==============================] - 330s 9s/step - loss: 0.0000e+00 - accuracy: 1.0000 - val_loss: 28.6320 - val_accuracy: 0.9860\n",
      "Epoch 21/30\n",
      "36/36 [==============================] - 520s 15s/step - loss: 0.0000e+00 - accuracy: 1.0000 - val_loss: 28.6320 - val_accuracy: 0.9860\n",
      "Epoch 22/30\n",
      "36/36 [==============================] - 346s 10s/step - loss: 0.0000e+00 - accuracy: 1.0000 - val_loss: 28.6320 - val_accuracy: 0.9860\n",
      "Epoch 23/30\n",
      "36/36 [==============================] - 376s 10s/step - loss: 0.0000e+00 - accuracy: 1.0000 - val_loss: 28.6320 - val_accuracy: 0.9860\n",
      "Epoch 24/30\n",
      "36/36 [==============================] - 380s 11s/step - loss: 0.0000e+00 - accuracy: 1.0000 - val_loss: 28.6320 - val_accuracy: 0.9860\n",
      "Epoch 25/30\n",
      "36/36 [==============================] - 386s 11s/step - loss: 0.0000e+00 - accuracy: 1.0000 - val_loss: 28.6320 - val_accuracy: 0.9860\n",
      "Epoch 26/30\n",
      "36/36 [==============================] - 381s 11s/step - loss: 0.0000e+00 - accuracy: 1.0000 - val_loss: 28.6320 - val_accuracy: 0.9860\n",
      "Epoch 27/30\n",
      "36/36 [==============================] - 366s 10s/step - loss: 0.0000e+00 - accuracy: 1.0000 - val_loss: 28.6320 - val_accuracy: 0.9860\n",
      "Epoch 28/30\n",
      "36/36 [==============================] - 370s 10s/step - loss: 0.0000e+00 - accuracy: 1.0000 - val_loss: 28.6320 - val_accuracy: 0.9860\n",
      "Epoch 29/30\n",
      "36/36 [==============================] - 370s 10s/step - loss: 0.0000e+00 - accuracy: 1.0000 - val_loss: 28.6320 - val_accuracy: 0.9860\n",
      "Epoch 30/30\n",
      "36/36 [==============================] - 392s 11s/step - loss: 0.0000e+00 - accuracy: 1.0000 - val_loss: 28.6320 - val_accuracy: 0.9860\n"
     ]
    }
   ],
   "source": [
    "\n",
    "history = model.fit(\n",
    "\n",
    "    train_dataset,\n",
    "    epochs = 30,\n",
    "    validation_data = val_dataset,\n",
    "    callbacks = callbacks\n",
    "    \n",
    ")"
   ]
  },
  {
   "cell_type": "code",
   "execution_count": 41,
   "id": "d07a9ca9",
   "metadata": {
    "scrolled": true
   },
   "outputs": [
    {
     "data": {
      "image/png": "[encoded data removed]",
      "text/plain": [
       "<Figure size 640x480 with 1 Axes>"
      ]
     },
     "metadata": {},
     "output_type": "display_data"
    },
    {
     "data": {
      "image/png": "[encoded data removed]",
      "text/plain": [
       "<Figure size 640x480 with 1 Axes>"
      ]
     },
     "metadata": {},
     "output_type": "display_data"
    },
    {
     "data": {
      "text/plain": [
       "<Figure size 640x480 with 0 Axes>"
      ]
     },
     "metadata": {},
     "output_type": "display_data"
    }
   ],
   "source": [
    "import matplotlib.pyplot as plt\n",
    "accuracy = history.history ['accuracy']\n",
    "val_accuracy = history.history ['val_accuracy']\n",
    "loss = history.history ['loss']\n",
    "val_loss = history.history['val_loss']\n",
    "\n",
    "epochs = range(1, len(accuracy) + 1)\n",
    "plt.plot(epochs, accuracy, 'bo', label = 'Training Accuracy')\n",
    "plt.plot(epochs, val_accuracy, 'b', label = 'Validation Accuracy')\n",
    "plt.title('Training and Validation accuracy')\n",
    "plt.legend()\n",
    "plt.figure()\n",
    "\n",
    "plt.plot(epochs, loss,'bo', label = 'Training Loss')\n",
    "plt.plot(epochs, val_loss, 'b', label = 'Validation Loss')\n",
    "plt.title('Training and Validation Loss')\n",
    "plt.legend()\n",
    "plt.figure()\n",
    "plt.show()\n"
   ]
  },
  {
   "cell_type": "code",
   "execution_count": null,
   "id": "ab91e7d0",
   "metadata": {},
   "outputs": [],
   "source": []
  },
  {
   "cell_type": "code",
   "execution_count": null,
   "id": "64bcdc39",
   "metadata": {},
   "outputs": [],
   "source": []
  },
  {
   "cell_type": "code",
   "execution_count": null,
   "id": "92d4ce82",
   "metadata": {},
   "outputs": [],
   "source": []
  }
 ],
 "metadata": {
  "kernelspec": {
   "display_name": "Python 3 (ipykernel)",
   "language": "python",
   "name": "python3"
  },
  "language_info": {
   "codemirror_mode": {
    "name": "ipython",
    "version": 3
   },
   "file_extension": ".py",
   "mimetype": "text/x-python",
   "name": "python",
   "nbconvert_exporter": "python",
   "pygments_lexer": "ipython3",
   "version": "3.10.9"
  }
 },
 "nbformat": 4,
 "nbformat_minor": 5
}
