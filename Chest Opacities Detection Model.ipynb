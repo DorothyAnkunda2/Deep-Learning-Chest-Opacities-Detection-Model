{
 "cells": [
  {
   "cell_type": "code",
   "execution_count": 1,
   "id": "da09be2f",
   "metadata": {
    "scrolled": false
   },
   "outputs": [
    {
     "name": "stderr",
     "output_type": "stream",
     "text": [
      "2023-05-04 16:52:48.870710: I tensorflow/core/platform/cpu_feature_guard.cc:193] This TensorFlow binary is optimized with oneAPI Deep Neural Network Library (oneDNN) to use the following CPU instructions in performance-critical operations:  SSE4.1 SSE4.2\n",
      "To enable them in other operations, rebuild TensorFlow with the appropriate compiler flags.\n"
     ]
    }
   ],
   "source": [
    "#Buliding the Neural network model\n",
    "import tensorflow as tf\n",
    "from tensorflow import keras\n",
    "import numpy as np\n",
    "from sklearn.model_selection import train_test_split"
   ]
  },
  {
   "cell_type": "code",
   "execution_count": 2,
   "id": "18774da9",
   "metadata": {},
   "outputs": [],
   "source": [
    "#the path to images\n",
    "path_to_images = 'Data/dataset1/known_images'\n"
   ]
  },
  {
   "cell_type": "code",
   "execution_count": 3,
   "id": "e1c0cb59",
   "metadata": {
    "scrolled": false
   },
   "outputs": [
    {
     "name": "stdout",
     "output_type": "stream",
     "text": [
      "Found 715 files belonging to 2 classes.\n",
      "Using 572 files for training.\n",
      "Using 143 files for validation.\n"
     ]
    },
    {
     "name": "stderr",
     "output_type": "stream",
     "text": [
      "2023-05-04 16:52:51.666878: I tensorflow/core/platform/cpu_feature_guard.cc:193] This TensorFlow binary is optimized with oneAPI Deep Neural Network Library (oneDNN) to use the following CPU instructions in performance-critical operations:  SSE4.1 SSE4.2\n",
      "To enable them in other operations, rebuild TensorFlow with the appropriate compiler flags.\n"
     ]
    }
   ],
   "source": [
    "# Training and validating the dataset\n",
    "train_dataset, val_dataset = keras.utils.image_dataset_from_directory(path_to_images, class_names = ['Normal','Sick'], batch_size = 16, image_size = (395, 488), validation_split = 0.2, subset = \"both\", seed = 200)"
   ]
  },
  {
   "cell_type": "code",
   "execution_count": 4,
   "id": "1ce8b025",
   "metadata": {
    "scrolled": true
   },
   "outputs": [],
   "source": [
    "#Creating the input shape\n",
    "inputs = keras.Input(shape = (395,488,3))\n",
    "\n",
    "#creating a convolutional layer with max pooling\n",
    "X = keras.layers.Conv2D(filters = 32, kernel_size = 3, activation = 'relu')(inputs)\n",
    "X = keras.layers.MaxPooling2D(pool_size = 2)(X)\n",
    "\n",
    "X = keras.layers.Conv2D(filters = 64, kernel_size = 3, activation = 'relu')(inputs)\n",
    "X = keras.layers.MaxPooling2D(pool_size = 2)(X)\n",
    "\n",
    "X = keras.layers.Conv2D(filters = 128, kernel_size = 3, activation = 'relu')(inputs)\n",
    "X = keras.layers.MaxPooling2D(pool_size = 2)(X)\n",
    "\n",
    "X = keras.layers.Conv2D(filters = 256, kernel_size = 3, activation = 'relu')(inputs)\n",
    "X = keras.layers.MaxPooling2D(pool_size = 2)(X)\n",
    "\n",
    "X = keras.layers.Conv2D(filters = 256, kernel_size = 3, activation = 'relu')(inputs)\n",
    "X = keras.layers.MaxPooling2D(pool_size = 2)(X)\n",
    "\n",
    "X = keras.layers.Flatten()(X)\n",
    "\n",
    "#X = keras.layers.Dense(64, activation = 'relu')(X)\n",
    "\n",
    "#Creating the model output\n",
    "outputs = keras.layers.Dense(1, activation = 'sigmoid')(X)\n",
    "\n"
   ]
  },
  {
   "cell_type": "code",
   "execution_count": 5,
   "id": "0d9ec056",
   "metadata": {},
   "outputs": [],
   "source": [
    "model = keras.Model(inputs = inputs, outputs = outputs)"
   ]
  },
  {
   "cell_type": "code",
   "execution_count": 6,
   "id": "47879a4c",
   "metadata": {},
   "outputs": [],
   "source": [
    "#Compiling the model\n",
    "\n",
    "model.compile(\n",
    "loss = 'binary_crossentropy',\n",
    "optimizer = 'rmsprop',\n",
    "metrics = ('accuracy')\n",
    "\n",
    ")"
   ]
  },
  {
   "cell_type": "code",
   "execution_count": null,
   "id": "c055519c",
   "metadata": {},
   "outputs": [
    {
     "name": "stdout",
     "output_type": "stream",
     "text": [
      "Epoch 1/10\n",
      "36/36 [==============================] - 339s 9s/step - loss: 1982.8849 - accuracy: 0.7710 - val_loss: 11.2972 - val_accuracy: 0.9441\n",
      "Epoch 2/10\n",
      " 9/36 [======>.......................] - ETA: 3:38 - loss: 10.6531 - accuracy: 0.9444"
     ]
    }
   ],
   "source": [
    "\n",
    "history = model.fit(\n",
    "train_dataset,\n",
    "epochs = 10,\n",
    "validation_data = val_dataset\n",
    ")"
   ]
  },
  {
   "cell_type": "code",
   "execution_count": null,
   "id": "d07a9ca9",
   "metadata": {
    "scrolled": true
   },
   "outputs": [],
   "source": [
    "import matplotlib.pyplot as plt\n",
    "accuracy = history.history ['accuracy']\n",
    "val_accuracy = history.history ['val_accuracy']\n",
    "loss = history.history ['loss']\n",
    "val_loss = history.history['val_loss']\n",
    "\n",
    "epochs = range(1, len(accuracy) + 1)\n",
    "plt.plot(epochs, accuracy, 'bo', label = 'Training Accuracy')\n",
    "plt.plot(epochs, val_accuracy, 'b', label = 'Validation Accuracy')\n",
    "plt.title('Training and Validation accuracy')\n",
    "plt.legend()\n",
    "plt.figure()\n",
    "plt.plot(epochs, loss,'bo', label = 'Training Loss')\n",
    "plt.plot(epochs, val_loss, 'b', label = 'Validation Loss')\n",
    "plt.title('Training and Validation Loss')\n",
    "plt.legend\n",
    "plt.show()\n"
   ]
  },
  {
   "cell_type": "code",
   "execution_count": null,
   "id": "ab91e7d0",
   "metadata": {},
   "outputs": [],
   "source": []
  },
  {
   "cell_type": "code",
   "execution_count": null,
   "id": "64bcdc39",
   "metadata": {},
   "outputs": [],
   "source": []
  },
  {
   "cell_type": "code",
   "execution_count": null,
   "id": "92d4ce82",
   "metadata": {},
   "outputs": [],
   "source": []
  }
 ],
 "metadata": {
  "kernelspec": {
   "display_name": "Python 3 (ipykernel)",
   "language": "python",
   "name": "python3"
  },
  "language_info": {
   "codemirror_mode": {
    "name": "ipython",
    "version": 3
   },
   "file_extension": ".py",
   "mimetype": "text/x-python",
   "name": "python",
   "nbconvert_exporter": "python",
   "pygments_lexer": "ipython3",
   "version": "3.10.9"
  }
 },
 "nbformat": 4,
 "nbformat_minor": 5
}
